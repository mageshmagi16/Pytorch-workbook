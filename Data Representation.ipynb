{
 "cells": [
  {
   "cell_type": "code",
   "execution_count": 38,
   "id": "07f17c12-9de7-4aca-9df8-68614e51e7d7",
   "metadata": {},
   "outputs": [],
   "source": [
    "import torch\n",
    "import numpy as np"
   ]
  },
  {
   "cell_type": "code",
   "execution_count": 39,
   "id": "7060ba34-08b4-4827-b989-672f583191c0",
   "metadata": {},
   "outputs": [],
   "source": [
    "#loading image\n",
    "import imageio\n"
   ]
  },
  {
   "cell_type": "code",
   "execution_count": 79,
   "id": "81229923-7bed-468b-ac98-e2cec0da697d",
   "metadata": {},
   "outputs": [
    {
     "name": "stderr",
     "output_type": "stream",
     "text": [
      "C:\\Users\\mages\\AppData\\Local\\Temp\\ipykernel_22100\\1698475536.py:1: DeprecationWarning: Starting with ImageIO v3 the behavior of this function will switch to that of iio.v3.imread. To keep the current behavior (and make this warning disappear) use `import imageio.v2 as imageio` or call `imageio.v2.imread` directly.\n",
      "  img_arr = imageio.imread('../venv/image.jpg')\n"
     ]
    },
    {
     "data": {
      "text/plain": [
       "(148, 195, 3)"
      ]
     },
     "execution_count": 79,
     "metadata": {},
     "output_type": "execute_result"
    }
   ],
   "source": [
    "img_arr = imageio.imread('../venv/image.jpg')\n",
    "img_arr.shape"
   ]
  },
  {
   "cell_type": "code",
   "execution_count": 77,
   "id": "c7c385bd-58b1-4990-b49d-9344a0fb5c10",
   "metadata": {},
   "outputs": [],
   "source": [
    "#changing layout\n",
    "\n",
    "img = torch.from_numpy(img_arr)\n",
    "out = img.permute(2, 0, 1)"
   ]
  },
  {
   "cell_type": "code",
   "execution_count": 80,
   "id": "31c662cf-ed86-43dd-9834-c250b6cf01a4",
   "metadata": {},
   "outputs": [],
   "source": [
    "batch_size = 3\n",
    "batch = torch.zeros(batch_size, 3, 256, 256, dtype=torch.uint8)\n"
   ]
  },
  {
   "cell_type": "code",
   "execution_count": 81,
   "id": "12fe757c-7f32-41a9-84e3-836d3341e9bb",
   "metadata": {},
   "outputs": [],
   "source": [
    "import os\n",
    " \n",
    "data_dir = '../venv/image-cats/'\n",
    "filenames = [name for name in os.listdir(data_dir)\n",
    "             if os.path.splitext(name)[-1] == '.png']\n",
    "for i, filename in enumerate(filenames):\n",
    "    img_arr = imageio.imread(os.path.join(data_dir, filename))\n",
    "    img_t = torch.from_numpy(img_arr)\n",
    "    img_t = img_t.permute(2, 0, 1)\n",
    "    img_t = img_t[:3]\n",
    "    batch[i] = img_t\n"
   ]
  },
  {
   "cell_type": "code",
   "execution_count": 82,
   "id": "d72b7150-b096-4aa0-9730-12d93293ce71",
   "metadata": {},
   "outputs": [],
   "source": [
    "batch = batch.float()\n",
    "batch /= 255.0\n"
   ]
  },
  {
   "cell_type": "code",
   "execution_count": 64,
   "id": "f2694820-7c52-43f1-a147-d68838e6fc4d",
   "metadata": {},
   "outputs": [
    {
     "data": {
      "text/plain": [
       "torch.Size([3, 3, 256, 256])"
      ]
     },
     "execution_count": 64,
     "metadata": {},
     "output_type": "execute_result"
    }
   ],
   "source": [
    "batch.shape"
   ]
  },
  {
   "cell_type": "code",
   "execution_count": 66,
   "id": "d914a9f9-5010-4786-9cec-93010c14aec4",
   "metadata": {},
   "outputs": [
    {
     "data": {
      "text/plain": [
       "3"
      ]
     },
     "execution_count": 66,
     "metadata": {},
     "output_type": "execute_result"
    }
   ],
   "source": [
    "n_channels = batch.shape[1]\n",
    "n_channels"
   ]
  },
  {
   "cell_type": "code",
   "execution_count": 83,
   "id": "7247aac4-ef30-4ebf-940c-68a89d072a8b",
   "metadata": {},
   "outputs": [
    {
     "data": {
      "text/plain": [
       "tensor(0.)"
      ]
     },
     "execution_count": 83,
     "metadata": {},
     "output_type": "execute_result"
    }
   ],
   "source": [
    "##3for c in range(n_channels):\n",
    "   mean = torch.mean(batch[:, c])\n",
    "   std = torch.std(batch[:, c])\n",
    "   batch[:, c] = (batch[:, c] - mean) / std\n",
    "\n",
    "mean"
   ]
  },
  {
   "cell_type": "code",
   "execution_count": null,
   "id": "25a529fb-42c2-42c4-a53c-752373b57f74",
   "metadata": {},
   "outputs": [],
   "source": []
  }
 ],
 "metadata": {
  "kernelspec": {
   "display_name": "Python 3 (ipykernel)",
   "language": "python",
   "name": "python3"
  },
  "language_info": {
   "codemirror_mode": {
    "name": "ipython",
    "version": 3
   },
   "file_extension": ".py",
   "mimetype": "text/x-python",
   "name": "python",
   "nbconvert_exporter": "python",
   "pygments_lexer": "ipython3",
   "version": "3.11.1"
  }
 },
 "nbformat": 4,
 "nbformat_minor": 5
}

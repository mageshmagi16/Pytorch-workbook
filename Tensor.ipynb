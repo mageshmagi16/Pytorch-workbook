{
 "cells": [
  {
   "cell_type": "code",
   "execution_count": 1,
   "id": "a07eee19-6661-469d-8d10-4398e027f5c9",
   "metadata": {},
   "outputs": [],
   "source": [
    "a = [1.0, 2.0, 1.0]"
   ]
  },
  {
   "cell_type": "code",
   "execution_count": 6,
   "id": "5cf707db-d4fb-48a6-a30b-ecba2f566101",
   "metadata": {},
   "outputs": [
    {
     "data": {
      "text/plain": [
       "tensor([1., 1., 1.])"
      ]
     },
     "execution_count": 6,
     "metadata": {},
     "output_type": "execute_result"
    }
   ],
   "source": [
    "import torch\n",
    "a= torch.ones(3)\n",
    "a"
   ]
  },
  {
   "cell_type": "code",
   "execution_count": 7,
   "id": "1625daf0-5e48-4dc6-a8ba-67565ac6b806",
   "metadata": {},
   "outputs": [
    {
     "data": {
      "text/plain": [
       "tensor([[4, 2],\n",
       "        [2, 2],\n",
       "        [1, 2]])"
      ]
     },
     "execution_count": 7,
     "metadata": {},
     "output_type": "execute_result"
    }
   ],
   "source": [
    "points = torch.tensor([[4,2], [2,2],[1,2]])\n",
    "points"
   ]
  },
  {
   "cell_type": "code",
   "execution_count": 9,
   "id": "9694d354-dde4-49ce-ba2a-1fa9bed3a86f",
   "metadata": {},
   "outputs": [
    {
     "data": {
      "text/plain": [
       "torch.Size([3, 2])"
      ]
     },
     "execution_count": 9,
     "metadata": {},
     "output_type": "execute_result"
    }
   ],
   "source": [
    "points.shape"
   ]
  },
  {
   "cell_type": "code",
   "execution_count": 11,
   "id": "bb5a7b01-16c4-4b0b-96d5-c9767763f201",
   "metadata": {},
   "outputs": [
    {
     "data": {
      "text/plain": [
       "tensor([1, 2])"
      ]
     },
     "execution_count": 11,
     "metadata": {},
     "output_type": "execute_result"
    }
   ],
   "source": [
    "#accessing elements\n",
    "points[2,1]\n",
    "points[2]"
   ]
  },
  {
   "cell_type": "code",
   "execution_count": 14,
   "id": "20793a8e-7d9e-4d06-a2ec-7bd4a410bbae",
   "metadata": {},
   "outputs": [
    {
     "data": {
      "text/plain": [
       "[0, 1, 2, 3, 4]"
      ]
     },
     "execution_count": 14,
     "metadata": {},
     "output_type": "execute_result"
    }
   ],
   "source": [
    "#indexing tensors\n",
    "l = list(range(6))\n",
    "l[:]\n",
    "l[1:4]\n",
    "l[1:4:2]\n",
    "l[1:]\n",
    "l[:-3]\n",
    "l[:-1]"
   ]
  },
  {
   "cell_type": "code",
   "execution_count": 15,
   "id": "3e0fd35b-e5d2-4f4a-9a37-578b6070a1fa",
   "metadata": {},
   "outputs": [
    {
     "data": {
      "text/plain": [
       "tensor([[[ 0.4224,  0.8528, -0.1955, -1.0366, -1.6073],\n",
       "         [ 1.0373,  0.0423,  0.5899,  1.6751,  1.5429],\n",
       "         [-0.5093, -2.6138, -0.1909, -1.1183,  1.1499],\n",
       "         [ 0.2106, -0.1707,  0.6643,  0.7008,  0.2087],\n",
       "         [-0.6802, -0.2734,  0.2218,  0.0050,  0.5888]],\n",
       "\n",
       "        [[ 0.3365,  0.4435, -0.0616,  0.0306,  1.0136],\n",
       "         [ 0.4474, -0.0524,  0.2303,  1.5914,  0.8155],\n",
       "         [ 0.2044,  0.7729, -0.3294,  0.0150, -1.1176],\n",
       "         [-0.8938, -0.9000,  1.6414, -0.9111,  0.9230],\n",
       "         [-0.6257, -2.0653,  1.6829,  0.2602,  0.6734]],\n",
       "\n",
       "        [[-1.7196,  0.2924,  0.2631, -0.7425,  1.9474],\n",
       "         [ 0.2505,  0.1920, -0.6575,  0.7720, -1.8559],\n",
       "         [-1.8510,  1.7704,  1.0231, -0.0032, -0.5381],\n",
       "         [ 0.9023, -0.7329,  0.0700,  0.7111,  0.5866],\n",
       "         [ 1.2204, -1.3466, -1.7060,  1.0389, -1.3278]]])"
      ]
     },
     "execution_count": 15,
     "metadata": {},
     "output_type": "execute_result"
    }
   ],
   "source": [
    "#named tensor\n",
    "img_t = torch.randn(3,5,5)\n",
    "img_t"
   ]
  },
  {
   "cell_type": "code",
   "execution_count": 16,
   "id": "fdb4a93c-97dc-446e-9fc7-bbda1151ceb4",
   "metadata": {},
   "outputs": [],
   "source": [
    "weights = torch.tensor([0.2126, 0.7152, 0.0722])\n"
   ]
  },
  {
   "cell_type": "code",
   "execution_count": 17,
   "id": "e8339201-ca4c-4496-a7a5-83d56009d53f",
   "metadata": {},
   "outputs": [],
   "source": [
    "batch_t = torch.randn(2,3,5,5) #batch, channel, rows, columns\n"
   ]
  },
  {
   "cell_type": "code",
   "execution_count": 18,
   "id": "9e9f09c1-d0de-42fc-aad0-b5dbe211bc3d",
   "metadata": {},
   "outputs": [
    {
     "data": {
      "text/plain": [
       "(torch.Size([5, 5]), torch.Size([2, 5, 5]))"
      ]
     },
     "execution_count": 18,
     "metadata": {},
     "output_type": "execute_result"
    }
   ],
   "source": [
    "img_gray_naive = img_t.mean(-3)\n",
    "batch_gray_naive = batch_t.mean(-3)\n",
    "img_gray_naive.shape, batch_gray_naive.shape"
   ]
  },
  {
   "cell_type": "code",
   "execution_count": 21,
   "id": "229570fc-f1bc-4f55-8994-3e4fd9ab913e",
   "metadata": {},
   "outputs": [
    {
     "data": {
      "text/plain": [
       "(torch.Size([2, 3, 5, 5]), torch.Size([2, 3, 5, 5]), torch.Size([3, 1, 1]))"
      ]
     },
     "execution_count": 21,
     "metadata": {},
     "output_type": "execute_result"
    }
   ],
   "source": [
    "unsqueezed_weights = weights.unsqueeze(-1).unsqueeze_(-1)\n",
    "img_weights = (img_t * unsqueezed_weights)\n",
    "batch_weights = (batch_t * unsqueezed_weights)\n",
    "img_gray_weighted = img_weights.sum(-3)\n",
    "batch_gray_weighted = batch_weights.sum(-3)\n",
    "batch_weights.shape, batch_t.shape, unsqueezed_weights.shape"
   ]
  },
  {
   "cell_type": "code",
   "execution_count": 23,
   "id": "42791b3c-0740-4364-915e-a01644ae0541",
   "metadata": {},
   "outputs": [
    {
     "data": {
      "text/plain": [
       "tensor([[ 0.4659, -0.2495, -0.0515],\n",
       "        [ 0.8573, -0.9475,  1.1756]])"
      ]
     },
     "execution_count": 23,
     "metadata": {},
     "output_type": "execute_result"
    }
   ],
   "source": [
    "a = torch.randn(3,2)\n",
    "a_t = torch.transpose(a, 0, 1)\n",
    "a.shape, a_t.shape\n",
    "a_t"
   ]
  },
  {
   "cell_type": "code",
   "execution_count": null,
   "id": "30ee8b28-cc1d-49aa-b4cd-2ebb3e9e6eb1",
   "metadata": {},
   "outputs": [],
   "source": []
  }
 ],
 "metadata": {
  "kernelspec": {
   "display_name": "Python 3 (ipykernel)",
   "language": "python",
   "name": "python3"
  },
  "language_info": {
   "codemirror_mode": {
    "name": "ipython",
    "version": 3
   },
   "file_extension": ".py",
   "mimetype": "text/x-python",
   "name": "python",
   "nbconvert_exporter": "python",
   "pygments_lexer": "ipython3",
   "version": "3.11.1"
  }
 },
 "nbformat": 4,
 "nbformat_minor": 5
}
